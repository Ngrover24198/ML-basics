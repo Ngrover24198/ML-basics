{
 "cells": [
  {
   "cell_type": "code",
   "execution_count": 1,
   "metadata": {},
   "outputs": [],
   "source": [
    "# chatbot that gives us some trivia about Machine learning etc using NLP(Natural Language Processing and very little data)\n",
    "import io\n",
    "import random\n",
    "import string # to process standard python strings\n",
    "import warnings\n",
    "import numpy as np\n",
    "from sklearn.feature_extraction.text import TfidfVectorizer\n",
    "from sklearn.metrics.pairwise import cosine_similarity\n",
    "import warnings\n",
    "warnings.filterwarnings('ignore')\n",
    "import nltk\n",
    "from nltk.stem import WordNetLemmatizer"
   ]
  },
  {
   "cell_type": "code",
   "execution_count": 2,
   "metadata": {},
   "outputs": [],
   "source": [
    "file = open(\"trivia.txt\", \"r\", errors=\"ignore\")"
   ]
  },
  {
   "cell_type": "code",
   "execution_count": 3,
   "metadata": {},
   "outputs": [],
   "source": [
    "raw = file.read()\n",
    "raw = raw.lower()"
   ]
  },
  {
   "cell_type": "code",
   "execution_count": 4,
   "metadata": {},
   "outputs": [],
   "source": [
    "sent_token = nltk.sent_tokenize(raw)\n",
    "word_token = nltk.word_tokenize(raw)"
   ]
  },
  {
   "cell_type": "code",
   "execution_count": 5,
   "metadata": {},
   "outputs": [
    {
     "data": {
      "text/plain": [
       "list"
      ]
     },
     "execution_count": 5,
     "metadata": {},
     "output_type": "execute_result"
    }
   ],
   "source": [
    "type(sent_token)"
   ]
  },
  {
   "cell_type": "code",
   "execution_count": 6,
   "metadata": {},
   "outputs": [
    {
     "data": {
      "text/plain": [
       "45"
      ]
     },
     "execution_count": 6,
     "metadata": {},
     "output_type": "execute_result"
    }
   ],
   "source": [
    "len(sent_token)"
   ]
  },
  {
   "cell_type": "code",
   "execution_count": 7,
   "metadata": {},
   "outputs": [],
   "source": [
    "#word_token"
   ]
  },
  {
   "cell_type": "code",
   "execution_count": 8,
   "metadata": {},
   "outputs": [],
   "source": [
    "lemma = nltk.stem.WordNetLemmatizer() \n",
    "# this is the initiation of lemmatizer that we are going to use"
   ]
  },
  {
   "cell_type": "code",
   "execution_count": 9,
   "metadata": {},
   "outputs": [],
   "source": [
    "def LemmaConv(tok):\n",
    "    return [lemma.lemmatize(tokens) for tokens in tok]\n",
    "    \n",
    "punct_rem = dict((ord(char), None) for char in string.punctuation)   \n",
    "\n",
    "def LemNor(text):\n",
    "    out = LemmaConv(nltk.word_tokenize(text.lower().translate(punct_rem)))\n",
    "    return out"
   ]
  },
  {
   "cell_type": "code",
   "execution_count": 10,
   "metadata": {},
   "outputs": [],
   "source": [
    "GREETING_INPUTS = (\"hello\", \"hi\", \"greetings\", \"sup\", \"what's up\",\"hey\",)\n",
    "GREETING_OUTPUTS = [\"hi\", \"hey\", \"*nods*\", \"hi there\", \"hello\", \"I am glad! You are talking to me\"]\n",
    "\n",
    "def Greet(sent):\n",
    "    \n",
    "    for word in sent.split():\n",
    "        if word.lower() in GREETING_INPUTS:\n",
    "            return random.choice(GREETING_OUTPUTS)"
   ]
  },
  {
   "cell_type": "code",
   "execution_count": 11,
   "metadata": {},
   "outputs": [],
   "source": [
    "# Bag of words model in order to generate a response from the bot for input questions\n",
    "def response(user_resp):\n",
    "    bot_resp = ''\n",
    "    sent_token.append(user_resp)\n",
    "    Tfidfvec = TfidfVectorizer(tokenizer=LemNor, stop_words='english')\n",
    "    tfidf = Tfidfvec.fit_transform(sent_token)\n",
    "    #print(\"TFIDF[-1]:- \",tfidf[-1])\n",
    "    vals = cosine_similarity(tfidf[-1], tfidf )\n",
    "    # cosine_similarity is used to find out the similiarity between two words or vectors in this case using dot product\n",
    "    idx=vals.argsort()[0][-2]\n",
    "    flat = vals.flatten()\n",
    "    #print(\"FLAT:- \",flat)\n",
    "    flat.sort()\n",
    "    req_tfidf = flat[-2] \n",
    "    # this is because after adding weights to all the sentences and sorting them in ascending order we get the sentence\n",
    "    # with the maximum number of weight at the second last position as the last position is the response of the user.\n",
    "    if(req_tfidf==0):\n",
    "        bot_resp=bot_resp+\"I am sorry! I don't understand you\"\n",
    "        return bot_resp\n",
    "    else:\n",
    "        bot_resp = bot_resp+sent_token[idx]\n",
    "        #print(\"SENT_TOKEN[IDX]:- \",sent_token[idx])\n",
    "        return bot_resp"
   ]
  },
  {
   "cell_type": "code",
   "execution_count": 12,
   "metadata": {},
   "outputs": [
    {
     "name": "stdout",
     "output_type": "stream",
     "text": [
      "BOT1: My name is Bot1. I will answer your queries about Chatbots. If you want to exit, type Bye!\n",
      "YOU: what is machine learning\n",
      "BOT1: machine learning\n",
      "machine learning is an application of artificial intelligence (ai) that provides systems the ability to automatically learn and improve from experience without being explicitly programmed.\n",
      "YOU: what is data science ?\n",
      "BOT1: data science\n",
      "data science is primarily used to make decisions and predictions making use of predictive causal analytics, prescriptive analytics (predictive plus decision science) and machine learning.\n",
      "YOU: thank you\n",
      "BOT1: You are welcome..\n"
     ]
    }
   ],
   "source": [
    "flag=True\n",
    "print(\"BOT1: My name is Bot1. I will answer your queries about Chatbots. If you want to exit, type Bye!\")\n",
    "while(flag==True):\n",
    "    user_response = input(\"YOU: \",)\n",
    "    user_response=user_response.lower()\n",
    "    if(user_response!='bye'):\n",
    "        if(user_response=='thanks' or user_response=='thank you' ):\n",
    "            flag=False\n",
    "            print(\"BOT1: You are welcome..\")\n",
    "        else:\n",
    "            if(Greet(user_response)!=None):\n",
    "                print(\"BOT1: \"+Greet(user_response))\n",
    "            else:\n",
    "                print(\"BOT1: \",end=\"\")\n",
    "                print(response(user_response))\n",
    "                sent_token.remove(user_response)\n",
    "    else:\n",
    "        flag=False\n",
    "        print(\"BOT1: Bye! take care you..\")"
   ]
  },
  {
   "cell_type": "code",
   "execution_count": null,
   "metadata": {},
   "outputs": [],
   "source": []
  }
 ],
 "metadata": {
  "kernelspec": {
   "display_name": "Python 3",
   "language": "python",
   "name": "python3"
  },
  "language_info": {
   "codemirror_mode": {
    "name": "ipython",
    "version": 3
   },
   "file_extension": ".py",
   "mimetype": "text/x-python",
   "name": "python",
   "nbconvert_exporter": "python",
   "pygments_lexer": "ipython3",
   "version": "3.6.7"
  }
 },
 "nbformat": 4,
 "nbformat_minor": 2
}
